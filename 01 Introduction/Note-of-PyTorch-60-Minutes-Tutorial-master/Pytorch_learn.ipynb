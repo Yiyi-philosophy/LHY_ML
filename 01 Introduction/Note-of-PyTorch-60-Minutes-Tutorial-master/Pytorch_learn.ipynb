{
 "cells": [
  {
   "cell_type": "markdown",
   "metadata": {},
   "source": [
    "1. Tensor（张量）。\r\n",
    "2. torch.autograd（自动求导包）。\r\n",
    "3. Neural Networks（神经网络）。\r\n",
    "4. Training a Classifier（图片分类任务示例）。"
   ]
  },
  {
   "cell_type": "code",
   "execution_count": null,
   "metadata": {},
   "outputs": [],
   "source": []
  }
 ],
 "metadata": {
  "interpreter": {
   "hash": "905885deabf81dd16270fe23bfd24e1eb7e1febb52c89db0f132f78642219128"
  },
  "kernelspec": {
   "display_name": "Python 3.8.8 64-bit ('base': conda)",
   "name": "python3"
  },
  "language_info": {
   "name": "python",
   "version": ""
  },
  "orig_nbformat": 4
 },
 "nbformat": 4,
 "nbformat_minor": 2
}